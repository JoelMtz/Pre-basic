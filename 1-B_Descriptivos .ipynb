{
 "cells": [
  {
   "cell_type": "code",
   "execution_count": 1,
   "metadata": {},
   "outputs": [
    {
     "name": "stdout",
     "output_type": "stream",
     "text": [
      "2020-10-28T14:17:49+01:00\n",
      "\n",
      "CPython 3.7.1\n",
      "IPython 7.2.0\n",
      "\n",
      "compiler   : MSC v.1915 64 bit (AMD64)\n",
      "system     : Windows\n",
      "release    : 10\n",
      "machine    : AMD64\n",
      "processor  : AMD64 Family 23 Model 17 Stepping 0, AuthenticAMD\n",
      "CPU cores  : 8\n",
      "interpreter: 64bit\n"
     ]
    }
   ],
   "source": [
    "%load_ext watermark\n",
    "%watermark"
   ]
  },
  {
   "cell_type": "code",
   "execution_count": 4,
   "metadata": {},
   "outputs": [],
   "source": [
    "# Ejercicios descriptivos con python\n",
    "\n",
    "import numpy as np # importando numpy\n",
    "from scipy import stats # importando scipy.stats\n",
    "import pandas as pd # importando pandas\n",
    "\n",
    "np.random.seed(123) # para poder replicar el random"
   ]
  },
  {
   "cell_type": "code",
   "execution_count": 27,
   "metadata": {},
   "outputs": [
    {
     "data": {
      "text/plain": [
       "array([[ 0.19381934, -0.25645997, -1.19781651,  1.03824453],\n",
       "       [ 0.5920923 ,  1.64083463,  0.37554749, -0.38899303],\n",
       "       [ 0.0644882 ,  0.57983362,  0.80682116,  0.86093965],\n",
       "       [ 1.61859942, -0.10824915, -2.62841198, -1.15272416],\n",
       "       [-0.09087315,  1.05250797,  0.51600435, -0.14933894],\n",
       "       [-0.17655676,  2.20900619, -1.28348837,  0.02068997],\n",
       "       [-0.84364805,  1.87323105, -0.02632359,  0.70149989],\n",
       "       [ 0.22891806, -0.86477547,  0.08273405, -0.38140986]])"
      ]
     },
     "execution_count": 27,
     "metadata": {},
     "output_type": "execute_result"
    }
   ],
   "source": [
    "# datos normalmente distribuidos\n",
    "# las primeras son las filas y las segundas las columnas\n",
    "bdatos = np.random.randn(8,4) \n",
    "bdatos"
   ]
  },
  {
   "cell_type": "markdown",
   "metadata": {},
   "source": [
    "### Media"
   ]
  },
  {
   "cell_type": "code",
   "execution_count": 29,
   "metadata": {},
   "outputs": [
    {
     "data": {
      "text/plain": [
       "0.15333571534665763"
      ]
     },
     "execution_count": 29,
     "metadata": {},
     "output_type": "execute_result"
    }
   ],
   "source": [
    "# para calcular la media\n",
    "bdatos.mean() "
   ]
  },
  {
   "cell_type": "code",
   "execution_count": 30,
   "metadata": {},
   "outputs": [
    {
     "data": {
      "text/plain": [
       "0.15333571534665763"
      ]
     },
     "execution_count": 30,
     "metadata": {},
     "output_type": "execute_result"
    }
   ],
   "source": [
    "# con la fun de numpy\n",
    "np.mean(bdatos)"
   ]
  },
  {
   "cell_type": "code",
   "execution_count": 31,
   "metadata": {},
   "outputs": [
    {
     "data": {
      "text/plain": [
       "array([-0.05555315,  0.55487035,  0.57802066, -0.56769647,  0.33207506,\n",
       "        0.19241276,  0.42618983, -0.23363331])"
      ]
     },
     "execution_count": 31,
     "metadata": {},
     "output_type": "execute_result"
    }
   ],
   "source": [
    "# media aritmetica de cada fila\n",
    "bdatos.mean(axis=1)"
   ]
  },
  {
   "cell_type": "code",
   "execution_count": 32,
   "metadata": {},
   "outputs": [
    {
     "data": {
      "text/plain": [
       "array([ 0.19835492,  0.76574111, -0.41936667,  0.06861351])"
      ]
     },
     "execution_count": 32,
     "metadata": {},
     "output_type": "execute_result"
    }
   ],
   "source": [
    "# media de cada columna\n",
    "bdatos.mean(axis=0)"
   ]
  },
  {
   "cell_type": "markdown",
   "metadata": {},
   "source": [
    "### Mediana "
   ]
  },
  {
   "cell_type": "code",
   "execution_count": 33,
   "metadata": {},
   "outputs": [
    {
     "data": {
      "text/plain": [
       "0.07361112343661483"
      ]
     },
     "execution_count": 33,
     "metadata": {},
     "output_type": "execute_result"
    }
   ],
   "source": [
    "np.median(bdatos)"
   ]
  },
  {
   "cell_type": "markdown",
   "metadata": {},
   "source": [
    "### Desviación típica / estandar "
   ]
  },
  {
   "cell_type": "code",
   "execution_count": 34,
   "metadata": {},
   "outputs": [
    {
     "data": {
      "text/plain": [
       "0.9910493234064012"
      ]
     },
     "execution_count": 34,
     "metadata": {},
     "output_type": "execute_result"
    }
   ],
   "source": [
    " # Desviación típica\n",
    "np.std(bdatos)"
   ]
  },
  {
   "cell_type": "code",
   "execution_count": 35,
   "metadata": {},
   "outputs": [
    {
     "data": {
      "text/plain": [
       "array([0.66153046, 1.04040088, 1.09826589, 0.70016968])"
      ]
     },
     "execution_count": 35,
     "metadata": {},
     "output_type": "execute_result"
    }
   ],
   "source": [
    "# Desviación estandar por columna\n",
    "np.std(bdatos, 0)"
   ]
  },
  {
   "cell_type": "code",
   "execution_count": 36,
   "metadata": {},
   "outputs": [
    {
     "data": {
      "text/plain": [
       "0.9821787614242856"
      ]
     },
     "execution_count": 36,
     "metadata": {},
     "output_type": "execute_result"
    }
   ],
   "source": [
    "# varianza\n",
    "np.var(bdatos) "
   ]
  },
  {
   "cell_type": "markdown",
   "metadata": {},
   "source": [
    "### Matriz de correlacion "
   ]
  },
  {
   "cell_type": "code",
   "execution_count": 37,
   "metadata": {},
   "outputs": [
    {
     "data": {
      "text/plain": [
       "array([[ 1.        , -0.44285263, -0.07908887,  0.43386984, -0.6230763 ,\n",
       "         0.24498393,  0.06537661, -0.20313596],\n",
       "       [-0.44285263,  1.        , -0.35625561,  0.33458619,  0.83445947,\n",
       "         0.70879991,  0.46457184, -0.4710502 ],\n",
       "       [-0.07908887, -0.35625561,  1.        , -0.90293531,  0.20134283,\n",
       "        -0.12120151,  0.50058295, -0.38588386],\n",
       "       [ 0.43386984,  0.33458619, -0.90293531,  1.        , -0.22746858,\n",
       "         0.41621748, -0.21681702,  0.05874868],\n",
       "       [-0.6230763 ,  0.83445947,  0.20134283, -0.22746858,  1.        ,\n",
       "         0.57140029,  0.69583167, -0.61943963],\n",
       "       [ 0.24498393,  0.70879991, -0.12120151,  0.41621748,  0.57140029,\n",
       "         1.        ,  0.79263347, -0.86884905],\n",
       "       [ 0.06537661,  0.46457184,  0.50058295, -0.21681702,  0.69583167,\n",
       "         0.79263347,  1.        , -0.98454467],\n",
       "       [-0.20313596, -0.4710502 , -0.38588386,  0.05874868, -0.61943963,\n",
       "        -0.86884905, -0.98454467,  1.        ]])"
      ]
     },
     "execution_count": 37,
     "metadata": {},
     "output_type": "execute_result"
    }
   ],
   "source": [
    "np.corrcoef(bdatos)"
   ]
  },
  {
   "cell_type": "code",
   "execution_count": 39,
   "metadata": {},
   "outputs": [
    {
     "data": {
      "text/plain": [
       "array([[ 1.        , -0.22746858],\n",
       "       [-0.22746858,  1.        ]])"
      ]
     },
     "execution_count": 39,
     "metadata": {},
     "output_type": "execute_result"
    }
   ],
   "source": [
    "# calculando la correlación entre dos vectores.\n",
    "np.corrcoef(bdatos[3], bdatos[4])"
   ]
  },
  {
   "cell_type": "code",
   "execution_count": 40,
   "metadata": {},
   "outputs": [
    {
     "data": {
      "text/plain": [
       "array([[ 0.86790305, -0.34548572, -0.02677313,  0.72229128, -0.32895891,\n",
       "         0.33362652,  0.0702133 , -0.09362138],\n",
       "       [-0.34548572,  0.70124622, -0.10840397,  0.50068039,  0.39600925,\n",
       "         0.86765344,  0.44848671, -0.19514393],\n",
       "       [-0.02677313, -0.10840397,  0.13203723, -0.58630304,  0.0414619 ,\n",
       "        -0.06437891,  0.20969385, -0.06936772],\n",
       "       [ 0.72229128,  0.50068039, -0.58630304,  3.19326245, -0.23035813,\n",
       "         1.08723894, -0.44665491,  0.05193595],\n",
       "       [-0.32895891,  0.39600925,  0.0414619 , -0.23035813,  0.32116606,\n",
       "         0.47336119,  0.45460106, -0.17366664],\n",
       "       [ 0.33362652,  0.86765344, -0.06437891,  1.08723894,  0.47336119,\n",
       "         2.13685348,  1.33573778, -0.62832494],\n",
       "       [ 0.0702133 ,  0.44848671,  0.20969385, -0.44665491,  0.45460106,\n",
       "         1.33573778,  1.32899352, -0.5614996 ],\n",
       "       [-0.09362138, -0.19514393, -0.06936772,  0.05193595, -0.17366664,\n",
       "        -0.62832494, -0.5614996 ,  0.24474014]])"
      ]
     },
     "execution_count": 40,
     "metadata": {},
     "output_type": "execute_result"
    }
   ],
   "source": [
    "# covarianza\n",
    "np.cov(bdatos) # calcula matriz de covarianza"
   ]
  },
  {
   "cell_type": "code",
   "execution_count": 41,
   "metadata": {},
   "outputs": [
    {
     "data": {
      "text/plain": [
       "array([[ 0.04767826, -0.00888624],\n",
       "       [-0.00888624,  1.39495179]])"
      ]
     },
     "execution_count": 41,
     "metadata": {},
     "output_type": "execute_result"
    }
   ],
   "source": [
    "# covarianza de dos vectores\n",
    "np.cov(datos[3], datos[4])"
   ]
  },
  {
   "cell_type": "markdown",
   "metadata": {},
   "source": [
    "# Pandas "
   ]
  },
  {
   "cell_type": "code",
   "execution_count": 43,
   "metadata": {},
   "outputs": [
    {
     "data": {
      "text/html": [
       "<div>\n",
       "<style scoped>\n",
       "    .dataframe tbody tr th:only-of-type {\n",
       "        vertical-align: middle;\n",
       "    }\n",
       "\n",
       "    .dataframe tbody tr th {\n",
       "        vertical-align: top;\n",
       "    }\n",
       "\n",
       "    .dataframe thead th {\n",
       "        text-align: right;\n",
       "    }\n",
       "</style>\n",
       "<table border=\"1\" class=\"dataframe\">\n",
       "  <thead>\n",
       "    <tr style=\"text-align: right;\">\n",
       "      <th></th>\n",
       "      <th>colest</th>\n",
       "      <th>glucosa</th>\n",
       "      <th>trigli</th>\n",
       "      <th>leucos</th>\n",
       "    </tr>\n",
       "  </thead>\n",
       "  <tbody>\n",
       "    <tr>\n",
       "      <th>a</th>\n",
       "      <td>0.193819</td>\n",
       "      <td>-0.256460</td>\n",
       "      <td>-1.197817</td>\n",
       "      <td>1.038245</td>\n",
       "    </tr>\n",
       "    <tr>\n",
       "      <th>b</th>\n",
       "      <td>0.592092</td>\n",
       "      <td>1.640835</td>\n",
       "      <td>0.375547</td>\n",
       "      <td>-0.388993</td>\n",
       "    </tr>\n",
       "    <tr>\n",
       "      <th>c</th>\n",
       "      <td>0.064488</td>\n",
       "      <td>0.579834</td>\n",
       "      <td>0.806821</td>\n",
       "      <td>0.860940</td>\n",
       "    </tr>\n",
       "    <tr>\n",
       "      <th>d</th>\n",
       "      <td>1.618599</td>\n",
       "      <td>-0.108249</td>\n",
       "      <td>-2.628412</td>\n",
       "      <td>-1.152724</td>\n",
       "    </tr>\n",
       "    <tr>\n",
       "      <th>e</th>\n",
       "      <td>-0.090873</td>\n",
       "      <td>1.052508</td>\n",
       "      <td>0.516004</td>\n",
       "      <td>-0.149339</td>\n",
       "    </tr>\n",
       "    <tr>\n",
       "      <th>f</th>\n",
       "      <td>-0.176557</td>\n",
       "      <td>2.209006</td>\n",
       "      <td>-1.283488</td>\n",
       "      <td>0.020690</td>\n",
       "    </tr>\n",
       "    <tr>\n",
       "      <th>g</th>\n",
       "      <td>-0.843648</td>\n",
       "      <td>1.873231</td>\n",
       "      <td>-0.026324</td>\n",
       "      <td>0.701500</td>\n",
       "    </tr>\n",
       "    <tr>\n",
       "      <th>h</th>\n",
       "      <td>0.228918</td>\n",
       "      <td>-0.864775</td>\n",
       "      <td>0.082734</td>\n",
       "      <td>-0.381410</td>\n",
       "    </tr>\n",
       "  </tbody>\n",
       "</table>\n",
       "</div>"
      ],
      "text/plain": [
       "     colest   glucosa    trigli    leucos\n",
       "a  0.193819 -0.256460 -1.197817  1.038245\n",
       "b  0.592092  1.640835  0.375547 -0.388993\n",
       "c  0.064488  0.579834  0.806821  0.860940\n",
       "d  1.618599 -0.108249 -2.628412 -1.152724\n",
       "e -0.090873  1.052508  0.516004 -0.149339\n",
       "f -0.176557  2.209006 -1.283488  0.020690\n",
       "g -0.843648  1.873231 -0.026324  0.701500\n",
       "h  0.228918 -0.864775  0.082734 -0.381410"
      ]
     },
     "execution_count": 43,
     "metadata": {},
     "output_type": "execute_result"
    }
   ],
   "source": [
    "dataframe = pd.DataFrame(bdatos, index=['a', 'b', 'c', 'd', 'e','f','g','h'], \n",
    "                        columns=['colest', 'glucosa', 'trigli', 'leucos'])\n",
    "dataframe"
   ]
  },
  {
   "cell_type": "code",
   "execution_count": 44,
   "metadata": {},
   "outputs": [
    {
     "data": {
      "text/html": [
       "<div>\n",
       "<style scoped>\n",
       "    .dataframe tbody tr th:only-of-type {\n",
       "        vertical-align: middle;\n",
       "    }\n",
       "\n",
       "    .dataframe tbody tr th {\n",
       "        vertical-align: top;\n",
       "    }\n",
       "\n",
       "    .dataframe thead th {\n",
       "        text-align: right;\n",
       "    }\n",
       "</style>\n",
       "<table border=\"1\" class=\"dataframe\">\n",
       "  <thead>\n",
       "    <tr style=\"text-align: right;\">\n",
       "      <th></th>\n",
       "      <th>colest</th>\n",
       "      <th>glucosa</th>\n",
       "      <th>trigli</th>\n",
       "      <th>leucos</th>\n",
       "    </tr>\n",
       "  </thead>\n",
       "  <tbody>\n",
       "    <tr>\n",
       "      <th>count</th>\n",
       "      <td>8.000000</td>\n",
       "      <td>8.000000</td>\n",
       "      <td>8.000000</td>\n",
       "      <td>8.000000</td>\n",
       "    </tr>\n",
       "    <tr>\n",
       "      <th>mean</th>\n",
       "      <td>0.198355</td>\n",
       "      <td>0.765741</td>\n",
       "      <td>-0.419367</td>\n",
       "      <td>0.068614</td>\n",
       "    </tr>\n",
       "    <tr>\n",
       "      <th>std</th>\n",
       "      <td>0.707206</td>\n",
       "      <td>1.112235</td>\n",
       "      <td>1.174096</td>\n",
       "      <td>0.748513</td>\n",
       "    </tr>\n",
       "    <tr>\n",
       "      <th>min</th>\n",
       "      <td>-0.843648</td>\n",
       "      <td>-0.864775</td>\n",
       "      <td>-2.628412</td>\n",
       "      <td>-1.152724</td>\n",
       "    </tr>\n",
       "    <tr>\n",
       "      <th>25%</th>\n",
       "      <td>-0.112294</td>\n",
       "      <td>-0.145302</td>\n",
       "      <td>-1.219234</td>\n",
       "      <td>-0.383306</td>\n",
       "    </tr>\n",
       "    <tr>\n",
       "      <th>50%</th>\n",
       "      <td>0.129154</td>\n",
       "      <td>0.816171</td>\n",
       "      <td>0.028205</td>\n",
       "      <td>-0.064324</td>\n",
       "    </tr>\n",
       "    <tr>\n",
       "      <th>75%</th>\n",
       "      <td>0.319712</td>\n",
       "      <td>1.698934</td>\n",
       "      <td>0.410662</td>\n",
       "      <td>0.741360</td>\n",
       "    </tr>\n",
       "    <tr>\n",
       "      <th>max</th>\n",
       "      <td>1.618599</td>\n",
       "      <td>2.209006</td>\n",
       "      <td>0.806821</td>\n",
       "      <td>1.038245</td>\n",
       "    </tr>\n",
       "  </tbody>\n",
       "</table>\n",
       "</div>"
      ],
      "text/plain": [
       "         colest   glucosa    trigli    leucos\n",
       "count  8.000000  8.000000  8.000000  8.000000\n",
       "mean   0.198355  0.765741 -0.419367  0.068614\n",
       "std    0.707206  1.112235  1.174096  0.748513\n",
       "min   -0.843648 -0.864775 -2.628412 -1.152724\n",
       "25%   -0.112294 -0.145302 -1.219234 -0.383306\n",
       "50%    0.129154  0.816171  0.028205 -0.064324\n",
       "75%    0.319712  1.698934  0.410662  0.741360\n",
       "max    1.618599  2.209006  0.806821  1.038245"
      ]
     },
     "execution_count": 44,
     "metadata": {},
     "output_type": "execute_result"
    }
   ],
   "source": [
    "# resumen estadistadistico con pandas\n",
    "dataframe.describe()"
   ]
  },
  {
   "cell_type": "code",
   "execution_count": 45,
   "metadata": {},
   "outputs": [
    {
     "data": {
      "text/plain": [
       "colest     1.586839\n",
       "glucosa    6.125929\n",
       "trigli    -3.354933\n",
       "leucos     0.548908\n",
       "dtype: float64"
      ]
     },
     "execution_count": 45,
     "metadata": {},
     "output_type": "execute_result"
    }
   ],
   "source": [
    "# sumando las columnas\n",
    "dataframe.sum()"
   ]
  },
  {
   "cell_type": "code",
   "execution_count": 46,
   "metadata": {},
   "outputs": [
    {
     "data": {
      "text/plain": [
       "a   -0.222213\n",
       "b    2.219481\n",
       "c    2.312083\n",
       "d   -2.270786\n",
       "e    1.328300\n",
       "f    0.769651\n",
       "g    1.704759\n",
       "h   -0.934533\n",
       "dtype: float64"
      ]
     },
     "execution_count": 46,
     "metadata": {},
     "output_type": "execute_result"
    }
   ],
   "source": [
    "# sumando filas\n",
    "dataframe.sum(axis=1)"
   ]
  },
  {
   "cell_type": "code",
   "execution_count": 47,
   "metadata": {},
   "outputs": [
    {
     "data": {
      "text/html": [
       "<div>\n",
       "<style scoped>\n",
       "    .dataframe tbody tr th:only-of-type {\n",
       "        vertical-align: middle;\n",
       "    }\n",
       "\n",
       "    .dataframe tbody tr th {\n",
       "        vertical-align: top;\n",
       "    }\n",
       "\n",
       "    .dataframe thead th {\n",
       "        text-align: right;\n",
       "    }\n",
       "</style>\n",
       "<table border=\"1\" class=\"dataframe\">\n",
       "  <thead>\n",
       "    <tr style=\"text-align: right;\">\n",
       "      <th></th>\n",
       "      <th>colest</th>\n",
       "      <th>glucosa</th>\n",
       "      <th>trigli</th>\n",
       "      <th>leucos</th>\n",
       "    </tr>\n",
       "  </thead>\n",
       "  <tbody>\n",
       "    <tr>\n",
       "      <th>a</th>\n",
       "      <td>0.193819</td>\n",
       "      <td>-0.256460</td>\n",
       "      <td>-1.197817</td>\n",
       "      <td>1.038245</td>\n",
       "    </tr>\n",
       "    <tr>\n",
       "      <th>b</th>\n",
       "      <td>0.785912</td>\n",
       "      <td>1.384375</td>\n",
       "      <td>-0.822269</td>\n",
       "      <td>0.649252</td>\n",
       "    </tr>\n",
       "    <tr>\n",
       "      <th>c</th>\n",
       "      <td>0.850400</td>\n",
       "      <td>1.964208</td>\n",
       "      <td>-0.015448</td>\n",
       "      <td>1.510191</td>\n",
       "    </tr>\n",
       "    <tr>\n",
       "      <th>d</th>\n",
       "      <td>2.468999</td>\n",
       "      <td>1.855959</td>\n",
       "      <td>-2.643860</td>\n",
       "      <td>0.357467</td>\n",
       "    </tr>\n",
       "    <tr>\n",
       "      <th>e</th>\n",
       "      <td>2.378126</td>\n",
       "      <td>2.908467</td>\n",
       "      <td>-2.127855</td>\n",
       "      <td>0.208128</td>\n",
       "    </tr>\n",
       "    <tr>\n",
       "      <th>f</th>\n",
       "      <td>2.201569</td>\n",
       "      <td>5.117473</td>\n",
       "      <td>-3.411344</td>\n",
       "      <td>0.228818</td>\n",
       "    </tr>\n",
       "    <tr>\n",
       "      <th>g</th>\n",
       "      <td>1.357921</td>\n",
       "      <td>6.990704</td>\n",
       "      <td>-3.437667</td>\n",
       "      <td>0.930318</td>\n",
       "    </tr>\n",
       "    <tr>\n",
       "      <th>h</th>\n",
       "      <td>1.586839</td>\n",
       "      <td>6.125929</td>\n",
       "      <td>-3.354933</td>\n",
       "      <td>0.548908</td>\n",
       "    </tr>\n",
       "  </tbody>\n",
       "</table>\n",
       "</div>"
      ],
      "text/plain": [
       "     colest   glucosa    trigli    leucos\n",
       "a  0.193819 -0.256460 -1.197817  1.038245\n",
       "b  0.785912  1.384375 -0.822269  0.649252\n",
       "c  0.850400  1.964208 -0.015448  1.510191\n",
       "d  2.468999  1.855959 -2.643860  0.357467\n",
       "e  2.378126  2.908467 -2.127855  0.208128\n",
       "f  2.201569  5.117473 -3.411344  0.228818\n",
       "g  1.357921  6.990704 -3.437667  0.930318\n",
       "h  1.586839  6.125929 -3.354933  0.548908"
      ]
     },
     "execution_count": 47,
     "metadata": {},
     "output_type": "execute_result"
    }
   ],
   "source": [
    "dataframe.cumsum() # acumulados"
   ]
  },
  {
   "cell_type": "code",
   "execution_count": 48,
   "metadata": {},
   "outputs": [
    {
     "data": {
      "text/plain": [
       "colest     0.198355\n",
       "glucosa    0.765741\n",
       "trigli    -0.419367\n",
       "leucos     0.068614\n",
       "dtype: float64"
      ]
     },
     "execution_count": 48,
     "metadata": {},
     "output_type": "execute_result"
    }
   ],
   "source": [
    "# media aritmetica de cada columna con pandas\n",
    "dataframe.mean()"
   ]
  },
  {
   "cell_type": "code",
   "execution_count": 49,
   "metadata": {},
   "outputs": [
    {
     "data": {
      "text/plain": [
       "a   -0.055553\n",
       "b    0.554870\n",
       "c    0.578021\n",
       "d   -0.567696\n",
       "e    0.332075\n",
       "f    0.192413\n",
       "g    0.426190\n",
       "h   -0.233633\n",
       "dtype: float64"
      ]
     },
     "execution_count": 49,
     "metadata": {},
     "output_type": "execute_result"
    }
   ],
   "source": [
    "# media aritmetica de cada fila con pandas\n",
    "dataframe.mean(axis=1)"
   ]
  },
  {
   "cell_type": "code",
   "execution_count": null,
   "metadata": {},
   "outputs": [],
   "source": []
  }
 ],
 "metadata": {
  "kernelspec": {
   "display_name": "Python 3",
   "language": "python",
   "name": "python3"
  },
  "language_info": {
   "codemirror_mode": {
    "name": "ipython",
    "version": 3
   },
   "file_extension": ".py",
   "mimetype": "text/x-python",
   "name": "python",
   "nbconvert_exporter": "python",
   "pygments_lexer": "ipython3",
   "version": "3.7.1"
  }
 },
 "nbformat": 4,
 "nbformat_minor": 2
}
