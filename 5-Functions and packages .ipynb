{
 "cells": [
  {
   "cell_type": "code",
   "execution_count": 1,
   "metadata": {},
   "outputs": [
    {
     "name": "stdout",
     "output_type": "stream",
     "text": [
      "2020-10-30T21:43:18+01:00\n",
      "\n",
      "CPython 3.7.1\n",
      "IPython 7.2.0\n",
      "\n",
      "compiler   : MSC v.1915 64 bit (AMD64)\n",
      "system     : Windows\n",
      "release    : 10\n",
      "machine    : AMD64\n",
      "processor  : AMD64 Family 23 Model 17 Stepping 0, AuthenticAMD\n",
      "CPU cores  : 8\n",
      "interpreter: 64bit\n"
     ]
    }
   ],
   "source": [
    "%load_ext watermark\n",
    "%watermark"
   ]
  },
  {
   "cell_type": "markdown",
   "metadata": {},
   "source": [
    "### Multiple arguments"
   ]
  },
  {
   "cell_type": "code",
   "execution_count": 3,
   "metadata": {},
   "outputs": [
    {
     "name": "stdout",
     "output_type": "stream",
     "text": [
      "[15, 14, 12, 3, 2]\n"
     ]
    }
   ],
   "source": [
    "# Create lists primero and segundo\n",
    "primero = [12, 14, 15]\n",
    "segundo = [2, 3]\n",
    "\n",
    "# Paste together primero and segundo: full\n",
    "full = primero + segundo\n",
    "\n",
    "# Sort full in descending order: full_sorted\n",
    "full_sorted = sorted(full,reverse=True)\n",
    "\n",
    "# Print out full_sorted\n",
    "print(full_sorted)"
   ]
  },
  {
   "cell_type": "markdown",
   "metadata": {},
   "source": [
    "### String Methods"
   ]
  },
  {
   "cell_type": "code",
   "execution_count": 10,
   "metadata": {},
   "outputs": [
    {
     "name": "stdout",
     "output_type": "stream",
     "text": [
      "picina\n",
      "PICINA\n",
      "2\n"
     ]
    }
   ],
   "source": [
    "# string to experiment with: place\n",
    "lugar = \"picina\"\n",
    "\n",
    "# Use upper() on place: place_up\n",
    "place_up = lugar.upper()\n",
    "\n",
    "# Print out place and place_up\n",
    "print(lugar) \n",
    "print(place_up)\n",
    "\n",
    "# Print out the number of o's in place\n",
    "print(lugar.count('i'))"
   ]
  },
  {
   "cell_type": "markdown",
   "metadata": {},
   "source": [
    "### List Methods"
   ]
  },
  {
   "cell_type": "code",
   "execution_count": 13,
   "metadata": {},
   "outputs": [
    {
     "name": "stdout",
     "output_type": "stream",
     "text": [
      "2\n",
      "3\n"
     ]
    }
   ],
   "source": [
    "# Create list lugares\n",
    "lugares = [12, 18, 20, 11, 4,4,5,23,22,4,12]\n",
    "\n",
    "# Print out the index of the element 20.0\n",
    "print(lugares.index(20.0))\n",
    "\n",
    "# Print out how often 4 appears in lugares\n",
    "print(lugares.count(4))"
   ]
  },
  {
   "cell_type": "code",
   "execution_count": 16,
   "metadata": {},
   "outputs": [
    {
     "name": "stdout",
     "output_type": "stream",
     "text": [
      "[15.45, 24.5, 12, 4, 22, 23, 5, 4, 4, 11, 20, 18, 12, 16, 12]\n",
      "[12, 16, 12, 18, 20, 11, 4, 4, 5, 23, 22, 4, 12, 24.5, 15.45]\n"
     ]
    }
   ],
   "source": [
    "# Use append twice to add poolhouse and garage size\n",
    "lugares.append(16)\n",
    "lugares.append(12)\n",
    "\n",
    "\n",
    "# Print out areas\n",
    "print(lugares)\n",
    "\n",
    "# Reverse the orders of the elements in areas\n",
    "lugares.reverse()\n",
    "\n",
    "# Print out areas\n",
    "print(lugares)"
   ]
  },
  {
   "cell_type": "markdown",
   "metadata": {},
   "source": [
    "## Import package"
   ]
  },
  {
   "cell_type": "code",
   "execution_count": 20,
   "metadata": {},
   "outputs": [
    {
     "name": "stdout",
     "output_type": "stream",
     "text": [
      "Circumference: 3.141592653589793\n",
      "Area: 0.7853981633974483\n"
     ]
    }
   ],
   "source": [
    "# Definition of radius\n",
    "r = 0.50\n",
    "\n",
    "# Import the math package\n",
    "import math \n",
    "\n",
    "# Calculate C\n",
    "C = 2 * r * math.pi\n",
    "\n",
    "# Calculate A\n",
    "A = math.pi * r ** 2\n",
    "\n",
    "# Build printout\n",
    "print(\"Circumference: \" + str(C))\n",
    "print(\"Area: \" + str(A))"
   ]
  },
  {
   "cell_type": "markdown",
   "metadata": {},
   "source": [
    "### Selective import"
   ]
  },
  {
   "cell_type": "code",
   "execution_count": 21,
   "metadata": {},
   "outputs": [
    {
     "name": "stdout",
     "output_type": "stream",
     "text": [
      "40317.10572106901\n"
     ]
    }
   ],
   "source": [
    "# Definition of radius\n",
    "r = 192500\n",
    "\n",
    "# Import radians function of math package\n",
    "from math import radians\n",
    "\n",
    "# Travel distance of Moon over 12 degrees. Store in dist.\n",
    "dist = phi=radians(12)*r\n",
    "\n",
    "# Print out dist\n",
    "print(dist)"
   ]
  },
  {
   "cell_type": "code",
   "execution_count": null,
   "metadata": {},
   "outputs": [],
   "source": []
  }
 ],
 "metadata": {
  "kernelspec": {
   "display_name": "Python 3",
   "language": "python",
   "name": "python3"
  },
  "language_info": {
   "codemirror_mode": {
    "name": "ipython",
    "version": 3
   },
   "file_extension": ".py",
   "mimetype": "text/x-python",
   "name": "python",
   "nbconvert_exporter": "python",
   "pygments_lexer": "ipython3",
   "version": "3.7.1"
  }
 },
 "nbformat": 4,
 "nbformat_minor": 2
}
