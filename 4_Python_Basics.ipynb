{
 "cells": [
  {
   "cell_type": "code",
   "execution_count": 1,
   "metadata": {},
   "outputs": [
    {
     "name": "stdout",
     "output_type": "stream",
     "text": [
      "2020-10-29T22:44:19+01:00\n",
      "\n",
      "CPython 3.7.1\n",
      "IPython 7.2.0\n",
      "\n",
      "compiler   : MSC v.1915 64 bit (AMD64)\n",
      "system     : Windows\n",
      "release    : 10\n",
      "machine    : AMD64\n",
      "processor  : AMD64 Family 23 Model 17 Stepping 0, AuthenticAMD\n",
      "CPU cores  : 8\n",
      "interpreter: 64bit\n"
     ]
    }
   ],
   "source": [
    "%load_ext watermark\n",
    "%watermark"
   ]
  },
  {
   "cell_type": "markdown",
   "metadata": {},
   "source": [
    "### Variable Assignment"
   ]
  },
  {
   "cell_type": "code",
   "execution_count": 2,
   "metadata": {},
   "outputs": [],
   "source": [
    "# Create a variable goles\n",
    "goles = 100"
   ]
  },
  {
   "cell_type": "code",
   "execution_count": 3,
   "metadata": {},
   "outputs": [
    {
     "data": {
      "text/plain": [
       "100"
      ]
     },
     "execution_count": 3,
     "metadata": {},
     "output_type": "execute_result"
    }
   ],
   "source": [
    "goles\n"
   ]
  },
  {
   "cell_type": "code",
   "execution_count": 4,
   "metadata": {},
   "outputs": [
    {
     "name": "stdout",
     "output_type": "stream",
     "text": [
      "100\n"
     ]
    }
   ],
   "source": [
    "print(goles)"
   ]
  },
  {
   "cell_type": "markdown",
   "metadata": {},
   "source": [
    "### Calculations with variables"
   ]
  },
  {
   "cell_type": "code",
   "execution_count": 5,
   "metadata": {},
   "outputs": [],
   "source": [
    "# Create a variable temporadas\n",
    "temporadas = 4"
   ]
  },
  {
   "cell_type": "code",
   "execution_count": 8,
   "metadata": {},
   "outputs": [
    {
     "data": {
      "text/plain": [
       "400"
      ]
     },
     "execution_count": 8,
     "metadata": {},
     "output_type": "execute_result"
    }
   ],
   "source": [
    "# Calculate result\n",
    "result = goles * temporadas\n",
    "result"
   ]
  },
  {
   "cell_type": "markdown",
   "metadata": {},
   "source": [
    "### Other variable types"
   ]
  },
  {
   "cell_type": "code",
   "execution_count": 9,
   "metadata": {},
   "outputs": [],
   "source": [
    "# Create a variable himno\n",
    "himno = \"al grito de guerra\"\n",
    "\n",
    "# Create a variable exito\n",
    "exito = True"
   ]
  },
  {
   "cell_type": "code",
   "execution_count": 11,
   "metadata": {},
   "outputs": [
    {
     "name": "stdout",
     "output_type": "stream",
     "text": [
      "al grito de guerra\n"
     ]
    },
    {
     "data": {
      "text/plain": [
       "True"
      ]
     },
     "execution_count": 11,
     "metadata": {},
     "output_type": "execute_result"
    }
   ],
   "source": [
    "print(himno)\n",
    "exito"
   ]
  },
  {
   "cell_type": "markdown",
   "metadata": {},
   "source": [
    "### Print the type"
   ]
  },
  {
   "cell_type": "code",
   "execution_count": 12,
   "metadata": {},
   "outputs": [
    {
     "name": "stdout",
     "output_type": "stream",
     "text": [
      "<class 'int'>\n"
     ]
    }
   ],
   "source": [
    "print(type(goles))"
   ]
  },
  {
   "cell_type": "code",
   "execution_count": 13,
   "metadata": {},
   "outputs": [
    {
     "name": "stdout",
     "output_type": "stream",
     "text": [
      "<class 'str'>\n"
     ]
    }
   ],
   "source": [
    "print(type(himno))"
   ]
  },
  {
   "cell_type": "code",
   "execution_count": 14,
   "metadata": {},
   "outputs": [
    {
     "name": "stdout",
     "output_type": "stream",
     "text": [
      "<class 'bool'>\n"
     ]
    }
   ],
   "source": [
    "print(type(exito))"
   ]
  },
  {
   "cell_type": "markdown",
   "metadata": {},
   "source": [
    "### Type conversion"
   ]
  },
  {
   "cell_type": "code",
   "execution_count": 19,
   "metadata": {},
   "outputs": [
    {
     "name": "stdout",
     "output_type": "stream",
     "text": [
      "El mejor jugador anoto: 100 en 4 temporadas\n"
     ]
    }
   ],
   "source": [
    "# Fix the printout\n",
    "print(\"El mejor jugador anoto: \" + str(goles) + \" en \" + str(temporadas) + \" temporadas\")"
   ]
  },
  {
   "cell_type": "markdown",
   "metadata": {},
   "source": [
    "## Create a list"
   ]
  },
  {
   "cell_type": "code",
   "execution_count": 22,
   "metadata": {},
   "outputs": [
    {
     "data": {
      "text/plain": [
       "[4, 6, 10, 12, 4]"
      ]
     },
     "execution_count": 22,
     "metadata": {},
     "output_type": "execute_result"
    }
   ],
   "source": [
    "# area variables (in square meters)\n",
    "pasillo = 4\n",
    "cocina = 6\n",
    "habi1 = 10\n",
    "habi2 = 12\n",
    "bath = 4\n",
    "\n",
    "# Create list areas\n",
    "areas = [pasillo,cocina,habi1,habi2,bath]\n",
    "areas"
   ]
  },
  {
   "cell_type": "markdown",
   "metadata": {},
   "source": [
    "## Create list with different types"
   ]
  },
  {
   "cell_type": "code",
   "execution_count": 25,
   "metadata": {},
   "outputs": [
    {
     "name": "stdout",
     "output_type": "stream",
     "text": [
      "['Pasillo', 4, 'cocina', 6, 'habi1', 10, 'habi2', 12, 'bathroom', 4]\n"
     ]
    }
   ],
   "source": [
    "# Adapt list areas\n",
    "areas = [\"Pasillo\",pasillo,\"cocina\", cocina, \"habi1\", habi1,\"habi2\", habi2, \"bathroom\", bath]\n",
    "\n",
    "# Print areas\n",
    "print(areas)"
   ]
  },
  {
   "cell_type": "markdown",
   "metadata": {},
   "source": [
    "## List of lists"
   ]
  },
  {
   "cell_type": "code",
   "execution_count": 27,
   "metadata": {},
   "outputs": [
    {
     "name": "stdout",
     "output_type": "stream",
     "text": [
      "[['Pasillo', 4], ['cocina', 6], ['habi1', 10], ['habi2', 12], ['bathroom', 4]]\n"
     ]
    }
   ],
   "source": [
    "# house information as list of lists\n",
    "casona = [[\"Pasillo\",pasillo],\n",
    "         [\"cocina\", cocina], \n",
    "         [\"habi1\", habi1],\n",
    "         [\"habi2\", habi2], \n",
    "         [\"bathroom\", bath]]\n",
    "\n",
    "# Print out house\n",
    "print(casona)"
   ]
  },
  {
   "cell_type": "markdown",
   "metadata": {},
   "source": [
    "## Subset and conquer"
   ]
  },
  {
   "cell_type": "code",
   "execution_count": 36,
   "metadata": {},
   "outputs": [
    {
     "name": "stdout",
     "output_type": "stream",
     "text": [
      "4\n",
      "8\n",
      "10\n"
     ]
    }
   ],
   "source": [
    "# Create the casona list\n",
    "casona = [\"Pasillo\",4,\"cocina\", 5, \"habi1\", 10, \"habi2\", 12, \"bathroom\", 8]\n",
    "\n",
    "# Print out second element from areas\n",
    "print(casona[1])\n",
    "\n",
    "# Print out last element from areas\n",
    "print(casona[-1])\n",
    "\n",
    "# Print out the area of the living room\n",
    "print(casona[5])\n"
   ]
  },
  {
   "cell_type": "code",
   "execution_count": 31,
   "metadata": {},
   "outputs": [
    {
     "name": "stdout",
     "output_type": "stream",
     "text": [
      "22\n"
     ]
    }
   ],
   "source": [
    "# Sum bedrooms areas: dos_habitaciones\n",
    "dos_habitaciones = casona[5]+casona[7]\n",
    "\n",
    "# Print the variable dos_habitaciones\n",
    "print(dos_habitaciones)"
   ]
  },
  {
   "cell_type": "markdown",
   "metadata": {},
   "source": [
    "## Slicing and dicing"
   ]
  },
  {
   "cell_type": "code",
   "execution_count": 32,
   "metadata": {},
   "outputs": [
    {
     "name": "stdout",
     "output_type": "stream",
     "text": [
      "['Pasillo', 4, 'cocina', 5, 'habi1', 10]\n",
      "['habi2', 12, 'bathroom', 8]\n"
     ]
    }
   ],
   "source": [
    "# Use slicing to create downstairs\n",
    "downstairs = casona[:6]\n",
    "\n",
    "# Use slicing to create upstairs\n",
    "upstairs = casona[6:10]\n",
    "\n",
    "# Print out downstairs and upstairs\n",
    "print(downstairs)\n",
    "print(upstairs)"
   ]
  },
  {
   "cell_type": "markdown",
   "metadata": {},
   "source": [
    "# Replace list elements"
   ]
  },
  {
   "cell_type": "code",
   "execution_count": 37,
   "metadata": {},
   "outputs": [
    {
     "data": {
      "text/plain": [
       "['Pasillo', 4, 'cocina', 5, 'mainhabi', 10, 'habi2', 12, 'bathroom', 10.5]"
      ]
     },
     "execution_count": 37,
     "metadata": {},
     "output_type": "execute_result"
    }
   ],
   "source": [
    "# Correct the bathroom area\n",
    "casona[9]= 10.50 \n",
    "\n",
    "# Change \"habi1\" to \"mainhabi\"\n",
    "casona[4]= \"mainhabi\"\n",
    "\n",
    "# ver los cambios\n",
    "casona"
   ]
  },
  {
   "cell_type": "markdown",
   "metadata": {},
   "source": [
    "## Extend a list"
   ]
  },
  {
   "cell_type": "code",
   "execution_count": 40,
   "metadata": {},
   "outputs": [
    {
     "name": "stdout",
     "output_type": "stream",
     "text": [
      "['Pasillo', 4, 'cocina', 5, 'mainhabi', 10, 'habi2', 12, 'bathroom', 10.5, 'picina', 20]\n",
      "['Pasillo', 4, 'cocina', 5, 'mainhabi', 10, 'habi2', 12, 'bathroom', 10.5, 'picina', 20, 'garage', 12]\n"
     ]
    }
   ],
   "source": [
    "# Add picina data to areas, new list is casa_1\n",
    "casa_1 = casona + [\"picina\", 20]\n",
    "\n",
    "# Add garage data to casa_1, new list is casa_2\n",
    "casa_2 = casa_1 + [\"garage\", 12]\n",
    "\n",
    "print(casa_1)\n",
    "print(casa_2)"
   ]
  },
  {
   "cell_type": "code",
   "execution_count": null,
   "metadata": {},
   "outputs": [],
   "source": []
  }
 ],
 "metadata": {
  "kernelspec": {
   "display_name": "Python 3",
   "language": "python",
   "name": "python3"
  },
  "language_info": {
   "codemirror_mode": {
    "name": "ipython",
    "version": 3
   },
   "file_extension": ".py",
   "mimetype": "text/x-python",
   "name": "python",
   "nbconvert_exporter": "python",
   "pygments_lexer": "ipython3",
   "version": "3.7.1"
  }
 },
 "nbformat": 4,
 "nbformat_minor": 2
}
